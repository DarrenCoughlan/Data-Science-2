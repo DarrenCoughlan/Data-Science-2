{
 "cells": [
  {
   "cell_type": "markdown",
   "metadata": {},
   "source": [
    "# Assignment 1 - Data Collection & Preparation"
   ]
  },
  {
   "cell_type": "markdown",
   "metadata": {},
   "source": [
    "The objective of this assignment is to scrape a corpus of news articles from a set of web-pages, perform some pre-processing on the corpus, and evaluate the performance of automated classification of these articles in a supervised learning context. \n",
    "\n",
    "For this assignment the classification models used were the K-nearest neighbour, Naive Bayes, and for extra insight Support Vector Machines classification was also used. \n",
    "\n",
    "However, before classification models could be applied, data was required for testing."
   ]
  },
  {
   "cell_type": "markdown",
   "metadata": {},
   "source": [
    "## Part 1: Data Collection"
   ]
  },
  {
   "cell_type": "markdown",
   "metadata": {},
   "source": [
    "The goal for this assignment was to collect a labelled news corpus with category labels for all the news articles on the website: http://mlg.ucd.ie/modules/COMP41680/archive/index.html\n",
    "\n",
    "I decided to create directories for articles and category labels, saving each article's title and body of text into individual numbered text files (\"#_article.txt\"), and the category labels into a single text file (\"Categories.txt\").\n",
    "\n",
    "The following packages were imported:\n",
    "1. Urllib for opening and reading URLs.\n",
    "2. BeautifulSoup (bs4) for parsing the HTML from each URL.\n",
    "3. Operating System (os) for creating new directories for sroting articles and category labels.\n"
   ]
  },
  {
   "cell_type": "code",
   "execution_count": 1,
   "metadata": {},
   "outputs": [],
   "source": [
    "import urllib\n",
    "import bs4\n",
    "import os"
   ]
  },
  {
   "cell_type": "markdown",
   "metadata": {},
   "source": [
    "The initial URL was opened and parsed such that the paths for month URLs could be scraped into a list for future link creation."
   ]
  },
  {
   "cell_type": "code",
   "execution_count": 2,
   "metadata": {},
   "outputs": [],
   "source": [
    "link = \"http://mlg.ucd.ie/modules/COMP41680/archive/\"\n",
    "response = urllib.request.urlopen(link + \"index.html\")\n",
    "html = response.read()\n",
    "parser = bs4.BeautifulSoup(html, 'html.parser')"
   ]
  },
  {
   "cell_type": "markdown",
   "metadata": {},
   "source": [
    "Printing the results from this, it can be seen that the months are stored under the ```<a>``` tags."
   ]
  },
  {
   "cell_type": "code",
   "execution_count": 3,
   "metadata": {
    "scrolled": false
   },
   "outputs": [
    {
     "name": "stdout",
     "output_type": "stream",
     "text": [
      "<!DOCTYPE html>\n",
      "\n",
      "<html lang=\"en\">\n",
      "<head>\n",
      "<!-- Note: This data is made only available for educational purposes for use COMP41680 Assignment 2 -->\n",
      "<title>Online News Archive</title>\n",
      "<meta charset=\"utf-8\"/>\n",
      "<meta content=\"width=device-width, initial-scale=1\" name=\"viewport\"/>\n",
      "<meta content=\"noindex\" name=\"robots\"/>\n",
      "<meta content=\"news,articles,news\" name=\"keywords\">\n",
      "<link href=\"http://www.insight-centre.org/sites/all/themes/bootstrap_insight/favicon.ico\" rel=\"shortcut icon\" type=\"image/vnd.microsoft.icon\"/>\n",
      "<meta content=\"Breaking News | International Headlines\" property=\"og:title\"/>\n",
      "<meta content=\"News Archive\" property=\"og:site_name\"/>\n",
      "<meta content=\"Latest news and more from the definitive brand of quality news.\" property=\"og:description\"/>\n",
      "<link href=\"css/bootstrap.min.css\" rel=\"stylesheet\"/>\n",
      "<script src=\"js/bootstrap.min.js\"></script>\n",
      "<style>\n",
      "\t  \t\t.main{ padding: 0; text-align: center;}\n",
      "\t  \t\t.footer{ padding: 6px;text-align: center; margin-top: 1em; }\n",
      "\n",
      "\t  \t\th1\n",
      "\t  \t\t{\n",
      "\t  \t\t\tfont-size: 180%;\n",
      "\t  \t\t\tmargin-top: 15px;\n",
      "\t  \t\t\tmargin-bottom: 15px;\n",
      "\t  \t\t}\n",
      "\t  \t\tul {list-style-type: none;}\n",
      "\t  \t\tli { margin-top: 5px; }\n",
      "\t  </style>\n",
      "</meta></head>\n",
      "<body>\n",
      "<div class=\"container\" style=\"margin-top: 2em;\">\n",
      "<div class=\"main\">\n",
      "<img alt=\"banner\" src=\"images/banner.jpg\" width=\"500\"/>\n",
      "<h1>News Article Archive</h1>\n",
      "<p>Archive of all news headlines and stories, organised per month.</p>\n",
      "<ul>\n",
      "<li>Articles — <a href=\"month-jan-2017.html\">January</a> [118]</li>\n",
      "<li>Articles — <a href=\"month-feb-2017.html\">February</a> [124]</li>\n",
      "<li>Articles — <a href=\"month-mar-2017.html\">March</a> [116]</li>\n",
      "<li>Articles — <a href=\"month-apr-2017.html\">April</a> [118]</li>\n",
      "<li>Articles — <a href=\"month-may-2017.html\">May</a> [115]</li>\n",
      "<li>Articles — <a href=\"month-jun-2017.html\">June</a> [115]</li>\n",
      "<li>Articles — <a href=\"month-jul-2017.html\">July</a> [122]</li>\n",
      "<li>Articles — <a href=\"month-aug-2017.html\">August</a> [116]</li>\n",
      "<li>Articles — <a href=\"month-sep-2017.html\">September</a> [113]</li>\n",
      "<li>Articles — <a href=\"month-oct-2017.html\">October</a> [124]</li>\n",
      "<li>Articles — <a href=\"month-nov-2017.html\">November</a> [122]</li>\n",
      "<li>Articles — <a href=\"month-dec-2017.html\">December</a> [115]</li>\n",
      "</ul>\n",
      "</div>\n",
      "<div class=\"footer\">\n",
      "<span><a href=\"\">Terms &amp; Conditions</a> | <a href=\"\">Privacy Policy</a> | <a href=\"\">Cookie Information</a> </span><br/>\n",
      "<span>© <span class=\"thisyear\">2017</span> — Original rights holders</span>\n",
      "</div>\n",
      "</div>\n",
      "</body>\n",
      "</html>\n",
      "\n"
     ]
    }
   ],
   "source": [
    "print(parser)"
   ]
  },
  {
   "cell_type": "markdown",
   "metadata": {},
   "source": [
    "I looped through the parser to find all ```<a>``` tags and get the text in the href for each."
   ]
  },
  {
   "cell_type": "code",
   "execution_count": 4,
   "metadata": {},
   "outputs": [
    {
     "data": {
      "text/plain": [
       "['month-jan-2017.html',\n",
       " 'month-feb-2017.html',\n",
       " 'month-mar-2017.html',\n",
       " 'month-apr-2017.html',\n",
       " 'month-may-2017.html',\n",
       " 'month-jun-2017.html',\n",
       " 'month-jul-2017.html',\n",
       " 'month-aug-2017.html',\n",
       " 'month-sep-2017.html',\n",
       " 'month-oct-2017.html',\n",
       " 'month-nov-2017.html',\n",
       " 'month-dec-2017.html',\n",
       " '',\n",
       " '',\n",
       " '']"
      ]
     },
     "execution_count": 4,
     "metadata": {},
     "output_type": "execute_result"
    }
   ],
   "source": [
    "# Get list of URLs for each month\n",
    "months = []\n",
    "for match in parser.find_all(\"a\"):\n",
    "    months.append(match.get('href'))\n",
    "    \n",
    "months"
   ]
  },
  {
   "cell_type": "markdown",
   "metadata": {},
   "source": [
    "This list then contained empty elements as there were later some ```<a>``` tages with empty links inside them. These empty months are then removed from this list with a simple while loop to clean up the list."
   ]
  },
  {
   "cell_type": "code",
   "execution_count": 5,
   "metadata": {},
   "outputs": [
    {
     "data": {
      "text/plain": [
       "['month-jan-2017.html',\n",
       " 'month-feb-2017.html',\n",
       " 'month-mar-2017.html',\n",
       " 'month-apr-2017.html',\n",
       " 'month-may-2017.html',\n",
       " 'month-jun-2017.html',\n",
       " 'month-jul-2017.html',\n",
       " 'month-aug-2017.html',\n",
       " 'month-sep-2017.html',\n",
       " 'month-oct-2017.html',\n",
       " 'month-nov-2017.html',\n",
       " 'month-dec-2017.html']"
      ]
     },
     "execution_count": 5,
     "metadata": {},
     "output_type": "execute_result"
    }
   ],
   "source": [
    "# Remove empty stings from the months urls\n",
    "while '' in months:\n",
    "    months.remove('')\n",
    "    \n",
    "months"
   ]
  },
  {
   "cell_type": "markdown",
   "metadata": {},
   "source": [
    "These months values in the list are the path additions which must be placed at the end of the URL 'link' above such that URLs for individual articles in each month can be accessed.\n",
    "\n",
    "Before any data is scraped and stored, I created the following directories for the article files and Category file to be stored."
   ]
  },
  {
   "cell_type": "code",
   "execution_count": 6,
   "metadata": {},
   "outputs": [],
   "source": [
    "# create a directory for the categories text file\n",
    "try:\n",
    "    os.stat('Categories')\n",
    "except:\n",
    "    os.mkdir('Categories')\n",
    "\n",
    "# create a directory for the articles text files\n",
    "try:\n",
    "    os.stat('Article_text_files')\n",
    "except:\n",
    "    os.mkdir('Article_text_files')"
   ]
  },
  {
   "cell_type": "markdown",
   "metadata": {},
   "source": [
    "I next loop through each months URL, scraping the html and parsing again with Beautiful Soup. The article paths for each month are stored into a list called articles, and the categories are stored into the Categories.txt file. In the categories scraping, the \"N/A\" values are skipped and only defined categories are stored."
   ]
  },
  {
   "cell_type": "code",
   "execution_count": 7,
   "metadata": {},
   "outputs": [
    {
     "name": "stdout",
     "output_type": "stream",
     "text": [
      "Categories month 0\n",
      "Categories month 1\n",
      "Categories month 2\n",
      "Categories month 3\n",
      "Categories month 4\n",
      "Categories month 5\n",
      "Categories month 6\n",
      "Categories month 7\n",
      "Categories month 8\n",
      "Categories month 9\n",
      "Categories month 10\n",
      "Categories month 11\n",
      "1408  category labels saved\n"
     ]
    }
   ],
   "source": [
    "# Get articles and categories from each month's news link\n",
    "articles = []\n",
    "categories = []\n",
    "f = open(\"Categories\\\\Categories.txt\", \"w\", encoding=\"utf-8\")\n",
    "for n in range(0,12):\n",
    "    link_month = link+months[n]\n",
    "    response_month = urllib.request.urlopen(link_month)\n",
    "    html = response_month.read()\n",
    "    parser = bs4.BeautifulSoup(html, 'html.parser')\n",
    "    for match in parser.find_all(\"a\"):\n",
    "        if \"article\" not in match.get('href'):\n",
    "            continue\n",
    "        else:\n",
    "            articles.append(match.get('href'))\n",
    "\n",
    "    for match in parser.find_all(\"td\", class_='category'):\n",
    "        if \"N/A\" not in match.get_text():\n",
    "            f.write(match.get_text()+\"\\n\")\n",
    "            # Categories saved in a list for counting purposes only\n",
    "            categories.append(match.get_text())\n",
    "    print(\"Categories month %d\" %n)\n",
    "    \n",
    "f.close\n",
    "\n",
    "print(len(categories),\" category labels saved\")"
   ]
  },
  {
   "cell_type": "markdown",
   "metadata": {},
   "source": [
    "Now each category for each article is stored in a single file for later, and only the articles are yet to be stored.\n",
    "\n",
    "The article path additions for the URLs are stored in the 'articles' variable. These URLs can now be iterated through to store the text from each in individual files. In order to do this, a function was made which took in the article URL and returned the relevant text in each article, including the title and the body of text.\n",
    "\n",
    "This function is defined as 'save_text()' below."
   ]
  },
  {
   "cell_type": "code",
   "execution_count": 8,
   "metadata": {},
   "outputs": [],
   "source": [
    "# Function to return article text and heading\n",
    "def save_text(article_url):\n",
    "    response = urllib.request.urlopen(article_url)\n",
    "    html = response.read()\n",
    "    parser = bs4.BeautifulSoup(html, 'html.parser')\n",
    "    text = \"\"\n",
    "    # print(parser)\n",
    "    for match in parser.find_all(\"h2\"):\n",
    "        text = match.get_text()\n",
    "    for match in parser.find_all(\"p\"):\n",
    "        if match.get_text() == \"Return to article search results\":\n",
    "            continue\n",
    "        else:\n",
    "            text = text+\"\\n\"+match.get_text()\n",
    "    return text"
   ]
  },
  {
   "cell_type": "markdown",
   "metadata": {},
   "source": [
    "Finally each of the articles would need to be saved to individual files for later processing. To do this, the articles variable is looped through whereby the 'save_text()' function is then invoked for each article's URL. The articles are saved to individual text files numbered by their position in the articles list. The character encoding \"utf-8\" is used such that unicode characters can also be saved.\n",
    "\n",
    "I print a sample article (first article) to prove the text is being stored as desired. A download percentage complete is printed then for tracking of the process of saving articles."
   ]
  },
  {
   "cell_type": "code",
   "execution_count": 10,
   "metadata": {},
   "outputs": [
    {
     "name": "stdout",
     "output_type": "stream",
     "text": [
      "Sample article text:\n",
      "----------------------------------------------------------\n",
      "21st-Century Sports: How Digital Technology Is Changing the Face Of The Sporting Industry\n",
      "\n",
      "The sporting industry has come a long way since the ‘60s. It has carved out for itself a niche with its roots so deep that I cannot fathom the sports industry showing any sign of decline any time soon - or later.\n",
      "\n",
      "The reason can be found in this seemingly subtle difference - other industries have customers; the sporting industry has fans. Vivek Ranadivé, leader of the ownership group of the NBA’s Sacramento Kings, explained it beautifully, “Fans will paint their face purple, fans will evangelize. ... Every other CEO in every business is dying to be in our position — they’re dying to have fans.“\n",
      "\n",
      "While fan passion alone could almost certainly keep the industry going, leagues and sporting franchises have decided not to rest on their laurels. The last few years have seen the steady introduction of technology into the world of sports - amplifying fans’ appreciation of games, enhancing athletes’ public profiles and informing their training methods, even influencing how contests are waged.\n",
      "\n",
      "Also, digital technology in particular has helped to create an alternative source of revenue, besides the games themselves - corporate sponsorship. They achieved this by capitalizing on the ardor of their customer base - sorry, fan base.\n",
      "----------------------------------------------------------\n",
      "\n",
      "Downloading\n",
      "5% Complete\n",
      "10% Complete\n",
      "14% Complete\n",
      "19% Complete\n",
      "24% Complete\n",
      "29% Complete\n",
      "34% Complete\n",
      "39% Complete\n",
      "44% Complete\n",
      "49% Complete\n",
      "54% Complete\n",
      "59% Complete\n",
      "64% Complete\n",
      "69% Complete\n",
      "74% Complete\n",
      "79% Complete\n",
      "84% Complete\n",
      "89% Complete\n",
      "94% Complete\n",
      "99% Complete\n",
      "100% Complete\n",
      "\n",
      "1408 Articles Saved\n"
     ]
    }
   ],
   "source": [
    "x = int(len(articles)/20)\n",
    "for n in range(0,len(articles)):\n",
    "    text = save_text(link+articles[n])\n",
    "    f = open(\"Article_text_files\\\\\"+str(n)+\"_article.txt\", \"w\", encoding=\"utf-8\")\n",
    "    if n==0:\n",
    "        print(\"Sample article text:\")\n",
    "        print(\"----------------------------------------------------------\")\n",
    "        print(text)\n",
    "        print(\"----------------------------------------------------------\\n\")\n",
    "        print(\"Downloading\")\n",
    "    if n > x: \n",
    "        perc = int((n*100)/len(articles))\n",
    "        print(\"%d%% Complete\"%perc)\n",
    "        x = x+int(len(articles)/20)\n",
    "    f.write(text)\n",
    "    f.close()\n",
    "    \n",
    "print(\"100% Complete\\n\")\n",
    "print(\"%d Articles Saved\" %len(articles))"
   ]
  },
  {
   "cell_type": "markdown",
   "metadata": {},
   "source": [
    "Now I have all article headings and text bodies saved in individual numbered text files, and the category labels for each article saved in a single text file. These articles to create a text classification model which can predict the category of an article based on its textual contents."
   ]
  },
  {
   "cell_type": "markdown",
   "metadata": {},
   "source": [
    "## Part 2: Text Classification"
   ]
  },
  {
   "cell_type": "markdown",
   "metadata": {},
   "source": [
    "The goal of the second part of this assignment is to anaylse this corpus of news articles and category labels from part 1 in a text classification context. \n",
    "\n",
    "Before the classification models can be created, some pre-processing is necessary with tokenisation, lemmatisation, vectorisation and some other pre-processing steps.\n",
    "\n",
    "Scikit has a range of different classification algorithms, and also enables tokenisation and vectorisation for dealing with English text. The following packages were imported for some text pre-processing."
   ]
  },
  {
   "cell_type": "code",
   "execution_count": 11,
   "metadata": {},
   "outputs": [],
   "source": [
    "from sklearn.feature_extraction.text import CountVectorizer, TfidfTransformer\n",
    "from nltk.stem import WordNetLemmatizer"
   ]
  },
  {
   "cell_type": "markdown",
   "metadata": {},
   "source": [
    "### <font color='green'>**_1. Save articles and categories in lists_**</font>\n",
    "\n",
    "The first step was to load the article text files and categories into lists such that they could be processed. The articles were loaded into a list whereby each article was appended as an individual string element in the list. A small loop was also included to ensure the text was all lowercase.\n",
    "\n",
    "The category labels were also all loaded into a list with elements for each category, whereby the n<sup>th</sup> element in the category list matched with the n<sup>th</sup> element in the article list."
   ]
  },
  {
   "cell_type": "code",
   "execution_count": 12,
   "metadata": {},
   "outputs": [
    {
     "name": "stdout",
     "output_type": "stream",
     "text": [
      "Number of articles:  1408\n",
      "Number of category labels:  1408\n"
     ]
    }
   ],
   "source": [
    "# Save articles and categories in lists \n",
    "\n",
    "articles = []\n",
    "num_articles = 1408\n",
    "\n",
    "# Save articles inyo a list\n",
    "for n in range(0,num_articles):\n",
    "    article = open(\"Article_text_files\\\\\"+str(n)+\"_article.txt\", \"r\", encoding=\"utf8\")\n",
    "    text = article.read()\n",
    "    articles.append(text)\n",
    "  \n",
    " # Change all article text to lowercase\n",
    "for x in articles:\n",
    "    x.lower()\n",
    "    \n",
    "print(\"Number of articles: \", len(articles))\n",
    "\n",
    "# Save categories into a list\n",
    "f = open(\"Categories\\\\Categories.txt\", encoding=\"utf8\")\n",
    "text = f.read()\n",
    "categories = text.strip().split()\n",
    "\n",
    "print(\"Number of category labels: \", len(categories))"
   ]
  },
  {
   "cell_type": "markdown",
   "metadata": {},
   "source": [
    "### <font color='green'>**_2. Vectorisation and pre-processing_**</font>\n",
    "\n",
    "Now that all articles and category labels are saved in lists, pre-processing and vectorisation must be applied such that the articles are stored in a bag-of-words model representation. In this model, each article is represented by a term vector for each term in the article. The term vector from each article is stacked to generate a full document-term matrix. \n",
    "\n",
    "The first step in this process is the creation of a custom tokenizing function 'lemma_tokenizer()'. This function uses the third party **NLTK** library and the WordNetLemmatizer() function to lemmatise the tokens."
   ]
  },
  {
   "cell_type": "code",
   "execution_count": 13,
   "metadata": {},
   "outputs": [],
   "source": [
    "def lemma_tokenizer(text):\n",
    "    # use the standard scikit-learn tokenizer first\n",
    "    tokenizer = CountVectorizer().build_tokenizer()\n",
    "    tokens = tokenizer(text)\n",
    "    # Then use the NLTK to perform lemmatisation on each token\n",
    "    lemma_tokens = []\n",
    "    lemmatizer = WordNetLemmatizer()\n",
    "    for token in tokens:\n",
    "        lemma_tokens.append(lemmatizer.lemmatize(token))\n",
    "    return lemma_tokens"
   ]
  },
  {
   "cell_type": "markdown",
   "metadata": {},
   "source": [
    "This function uses lemmatization, reducing the words to their canonical form. This is an advanced form of stemming which removes things like tense or plurals.\n",
    "\n",
    "Now using this custom tokenizing function, I can vectorize the articles with some further pre-processing. I decided to exclude stop-words from my count using the built-in list of stop-words for the english language specified by the name of the language in lower-case; \"english\".\n",
    "\n",
    "I also applied a filter for terms appearing in less than 5 documents with 'min_df=5'."
   ]
  },
  {
   "cell_type": "code",
   "execution_count": 14,
   "metadata": {},
   "outputs": [
    {
     "data": {
      "text/plain": [
       "(1408, 6101)"
      ]
     },
     "execution_count": 14,
     "metadata": {},
     "output_type": "execute_result"
    }
   ],
   "source": [
    "vectorizer = CountVectorizer(tokenizer=lemma_tokenizer,stop_words=\"english\", min_df=5)\n",
    "data_counts = vectorizer.fit_transform(articles)\n",
    "\n",
    "data_counts.shape"
   ]
  },
  {
   "cell_type": "markdown",
   "metadata": {},
   "source": [
    "This term vector 'data_counts' now consists of stacked term vectors for each of the article whereby the count for each term is included in the cell for that document. The number of terms in the term vector is 6101 with 1408 documents.\n",
    "\n",
    "This is not the most accurate way to perform vectorization since this would give more weight to longer documents than shorter ones. To fix this, instead term freqiencies are used instead, ie. the number count for the word divided by the total number of words in the document.\n",
    "\n",
    "A further step here is to use **TF_IDF** which is term frequency inverse document frequency. This gives the effect of penalising common terms appearing in every document.\n",
    "\n",
    "Implementing this requires the use of a TF_IDF transformer which creates a transformed term vector from the original count vector."
   ]
  },
  {
   "cell_type": "code",
   "execution_count": 15,
   "metadata": {},
   "outputs": [
    {
     "data": {
      "text/plain": [
       "(1408, 6101)"
      ]
     },
     "execution_count": 15,
     "metadata": {},
     "output_type": "execute_result"
    }
   ],
   "source": [
    "# Term frequency weighting\n",
    "tfidf_transformer = TfidfTransformer()\n",
    "data_tfidf = tfidf_transformer.fit_transform(data_counts)\n",
    "\n",
    "data_tfidf.shape"
   ]
  },
  {
   "cell_type": "markdown",
   "metadata": {},
   "source": [
    "As expected, this still has the same vector dimensions. "
   ]
  },
  {
   "cell_type": "markdown",
   "metadata": {},
   "source": [
    "### <font color='green'>**_3. Classification_**</font>\n",
    "\n",
    "Now that I have all the article data saved in a data vector, this data must be split for classification purposes. Classification requires 4 variables for a model, predictions and testing to be made.\n",
    "\n",
    "1. dataset_train: The set of article data whic is used to train the model.\n",
    "2. target_train: The set of category labels for these articles to train the model.\n",
    "3. dataset_test: The set of articles which are held back for evaluation of the model\n",
    "4. target_test: The set of category labels which are held back for evaluation of predictions.\n",
    "\n",
    "The sklearn package provides functionality to randomly split the train and test data of defined test size proportions. I chose to hold back 20% of the data for testing of the model predictions. "
   ]
  },
  {
   "cell_type": "code",
   "execution_count": 16,
   "metadata": {},
   "outputs": [],
   "source": [
    "from sklearn.model_selection import train_test_split\n",
    "\n",
    "data_train, data_test, target_train, target_test = train_test_split(data_tfidf, categories, test_size=0.2)"
   ]
  },
  {
   "cell_type": "markdown",
   "metadata": {},
   "source": [
    "#### <font color='green'>**_3.1. Naive Bayes Model_**</font>\n",
    "\n",
    "The first classification model tested was the Naive Bayes classifier. This model is not the most accurate as it assumes each document as independent. It is a popular classification model for text categorisation as we are performing here, however as the name suggests, it is quite naive in assuming independence between features.\n",
    "\n",
    "A good explanation for the operation of this classifier is in the classification of an apple. If an apple has the features that it is red, it is round and it is a fruit, the naive classifier considers these features to contribute indipendently to the classification of this apple, despite any correlations that may occur between its features.\n",
    "\n",
    "This model is made available through the sklearn package."
   ]
  },
  {
   "cell_type": "code",
   "execution_count": 17,
   "metadata": {},
   "outputs": [],
   "source": [
    "from sklearn.naive_bayes import MultinomialNB\n",
    "\n",
    "model_NB = MultinomialNB()\n",
    "model_NB.fit(data_train, target_train)\n",
    "predicted_NB = model_NB.predict(data_test)"
   ]
  },
  {
   "cell_type": "markdown",
   "metadata": {},
   "source": [
    "#### <font color='green'>**_3.2. K-Nearest Neighbour_**</font>\n",
    "\n",
    "The second classification method tested was the KNN model. In this model, the article is classified on a majority vote of its nearest neighbours. The article is then assigned the category of the majority vote of these k nearest neighbours. If k=3 then the article being predicted for is assigned the category of the majority vote from the 3 nearest neighbours. \n",
    "\n",
    "I chose to stay with the default value of k=5 which is defined by leaving the model function empty."
   ]
  },
  {
   "cell_type": "code",
   "execution_count": 18,
   "metadata": {},
   "outputs": [],
   "source": [
    "from sklearn.neighbors import KNeighborsClassifier\n",
    "\n",
    "model_KNN = KNeighborsClassifier()\n",
    "model_KNN.fit(data_train, target_train)\n",
    "predicted_KNN = model_KNN.predict(data_test)"
   ]
  },
  {
   "cell_type": "markdown",
   "metadata": {},
   "source": [
    "#### <font color='green'>**_3.2. Support Vector Classification_**</font>\n",
    "\n",
    "As a final classification method I also decided to test the support vector classifier. This model is much more advanced than the NB or KNN models. \n",
    "\n",
    "The SVC uses a kernel function to accuratley separate different classes. With no tuning, the default is to use a estimate whether to use a linear or non-linear kernel, however, this gives a very low performance in the range of about 0.35-0.4 accuracy. Since the number of classes is only 3, it is most likely going to be a linear model and some parameter tuning is required whereby the kernel is set to 'linear' resulting in both increased performance and accuracy in the SVC model (as shown later)."
   ]
  },
  {
   "cell_type": "code",
   "execution_count": 19,
   "metadata": {},
   "outputs": [],
   "source": [
    "from sklearn.svm import SVC\n",
    "\n",
    "model_SVC = SVC(kernel='linear')\n",
    "model_SVC.fit(data_train, target_train)\n",
    "predicted_SVC = model_SVC.predict(data_test)"
   ]
  },
  {
   "cell_type": "markdown",
   "metadata": {},
   "source": [
    "### <font color='green'>**_4. Classifier Evaluation_**</font>\n",
    "\n",
    "The standard method of evaluating classifiers is to split the data into training data and test data as done above. This split is done by randomly holding back 20% of the data for evaluation here.\n",
    "\n",
    "#### <font color='green'>**_4.1. Accuracy Score_**</font>\n",
    "The first test used is an accuracy score for each model. This is the fraction of correct predictions to total predictions made. This accuracy score evaluation is made available by importing from the sklearn.metrics package.\n",
    "\n",
    "Predictions are made for each of the models using the same 20% of data held back and classifiers are compared using their accuracy score."
   ]
  },
  {
   "cell_type": "code",
   "execution_count": 20,
   "metadata": {},
   "outputs": [
    {
     "name": "stdout",
     "output_type": "stream",
     "text": [
      "Accuracy Score NB:  0.9680851063829787\n",
      "Accuracy Score KNN:  0.9716312056737588\n",
      "Accuracy Score SVC:  0.9893617021276596\n"
     ]
    }
   ],
   "source": [
    "from sklearn.metrics import accuracy_score\n",
    "\n",
    "acc_NB = accuracy_score(target_test, predicted_NB)\n",
    "print(\"Accuracy Score NB: \", acc_NB)\n",
    "\n",
    "acc_KNN = accuracy_score(target_test, predicted_KNN)\n",
    "print(\"Accuracy Score KNN: \", acc_KNN)\n",
    "\n",
    "acc_SVC = accuracy_score(target_test, predicted_SVC)\n",
    "print(\"Accuracy Score SVC: \", acc_SVC)"
   ]
  },
  {
   "cell_type": "markdown",
   "metadata": {},
   "source": [
    "The accuracy score for each model is very good, with the KNN often resulting in a lower accuracy than NB and SVC. Improved evaluation schemes which give further information are shown below."
   ]
  },
  {
   "cell_type": "markdown",
   "metadata": {},
   "source": [
    "#### <font color='green'>**_4.2. Confusion Matrix_**</font>\n",
    "\n",
    "Confusion matrix provides the different aspects of classifier performance by showing where the articles are true or false positive, and true or false negative.\n",
    "\n",
    "This confusion method can be evaluated in python for each of the models above. In order to present the confusion matrix in a presentable colour map, the function plot_confusion_matrix from the sklearn documentation is used (1).\n",
    "\n",
    "(1) - (http://scikit-learn.org/stable/auto_examples/model_selection/plot_confusion_matrix.html)"
   ]
  },
  {
   "cell_type": "code",
   "execution_count": 21,
   "metadata": {},
   "outputs": [],
   "source": [
    "from sklearn.metrics import confusion_matrix\n",
    "import itertools\n",
    "import matplotlib.pyplot as plt\n",
    "import numpy as np\n",
    "np.set_printoptions(precision=2)\n",
    "\n",
    "def plot_confusion_matrix(cm, classes,\n",
    "                          normalize=True,\n",
    "                          title='Confusion matrix',\n",
    "                          cmap=plt.cm.Blues):\n",
    "    # The confusion matrix can be normalised\n",
    "    if normalize:\n",
    "        cm = cm.astype('float') / cm.sum(axis=1)[:, np.newaxis]\n",
    "        print(\"Normalized confusion matrix\")\n",
    "    else:\n",
    "        print('Confusion matrix, without normalization')\n",
    "\n",
    "    print(cm)\n",
    "\n",
    "    plt.imshow(cm, interpolation='nearest', cmap=cmap)\n",
    "    plt.title(title)\n",
    "    plt.colorbar()\n",
    "    tick_marks = np.arange(len(classes))\n",
    "    plt.xticks(tick_marks, classes, rotation=45)\n",
    "    plt.yticks(tick_marks, classes)\n",
    "\n",
    "    fmt = '.2f' if normalize else 'd'\n",
    "    thresh = cm.max() / 2.\n",
    "    for i, j in itertools.product(range(cm.shape[0]), range(cm.shape[1])):\n",
    "        plt.text(j, i, format(cm[i, j], fmt),\n",
    "                 horizontalalignment=\"center\",\n",
    "                 color=\"white\" if cm[i, j] > thresh else \"black\")\n",
    "\n",
    "    plt.tight_layout()\n",
    "    plt.ylabel('True label')\n",
    "    plt.xlabel('Predicted label')"
   ]
  },
  {
   "cell_type": "markdown",
   "metadata": {},
   "source": [
    "The function allows the confusion matrix to be presented showing the predicted labels and the true labels. The function also gives the option to normalize this data.\n",
    "\n",
    "Before the confusion matrix could be evaluated, the target names needed to be explicitly named. This is performed using the OrderdDict library from the collections package, which removes the duplicate category names."
   ]
  },
  {
   "cell_type": "code",
   "execution_count": 22,
   "metadata": {},
   "outputs": [
    {
     "name": "stdout",
     "output_type": "stream",
     "text": [
      "Confusion matrix, without normalization\n",
      "[[ 92   0   2]\n",
      " [  0 109   3]\n",
      " [  4   0  72]]\n"
     ]
    },
    {
     "data": {
      "image/png": "[encoded data removed]",
      "text/plain": [
       "<matplotlib.figure.Figure at 0x207cf50fa58>"
      ]
     },
     "metadata": {},
     "output_type": "display_data"
    }
   ],
   "source": [
    "from collections import OrderedDict\n",
    "\n",
    "target_names = list(OrderedDict.fromkeys(categories))\n",
    "\n",
    "cm_NB = confusion_matrix(predicted_NB, target_test)\n",
    "\n",
    "plt.figure()\n",
    "plot_confusion_matrix(cm_NB, classes=target_names, normalize=False, title='Confusion matrix without normalization')\n",
    "plt.show()"
   ]
  },
  {
   "cell_type": "markdown",
   "metadata": {},
   "source": [
    "From this the true and predicted labels can be seen where the total number of articles sums to 282 which is approximately 20% of the original 1408 articles which were held back for testing.\n",
    "\n",
    "This confusion matrix can be normalised by including in the parameters 'normalize=True'."
   ]
  },
  {
   "cell_type": "code",
   "execution_count": 23,
   "metadata": {},
   "outputs": [
    {
     "name": "stdout",
     "output_type": "stream",
     "text": [
      "Normalized confusion matrix\n",
      "[[0.98 0.   0.02]\n",
      " [0.   0.97 0.03]\n",
      " [0.05 0.   0.95]]\n"
     ]
    },
    {
     "data": {
      "image/png": "[encoded data removed]",
      "text/plain": [
       "<matplotlib.figure.Figure at 0x207d7551f28>"
      ]
     },
     "metadata": {},
     "output_type": "display_data"
    }
   ],
   "source": [
    "cm_NB = confusion_matrix(predicted_NB, target_test)\n",
    "\n",
    "plt.figure()\n",
    "plot_confusion_matrix(cm_NB, classes=target_names, normalize=True, title='Confusion matrix with normalization (NB)')\n",
    "plt.show()"
   ]
  },
  {
   "cell_type": "markdown",
   "metadata": {},
   "source": [
    "Applying this to the KNN and SVC classifications also gives the following confusion matrices."
   ]
  },
  {
   "cell_type": "code",
   "execution_count": 24,
   "metadata": {},
   "outputs": [
    {
     "name": "stdout",
     "output_type": "stream",
     "text": [
      "Normalized confusion matrix\n",
      "[[0.99 0.01 0.  ]\n",
      " [0.01 0.98 0.01]\n",
      " [0.06 0.   0.94]]\n"
     ]
    },
    {
     "data": {
      "image/png": "[encoded data removed]",
      "text/plain": [
       "<matplotlib.figure.Figure at 0x207d75c45c0>"
      ]
     },
     "metadata": {},
     "output_type": "display_data"
    },
    {
     "name": "stdout",
     "output_type": "stream",
     "text": [
      "Normalized confusion matrix\n",
      "[[1.   0.   0.  ]\n",
      " [0.   0.99 0.01]\n",
      " [0.03 0.   0.97]]\n"
     ]
    },
    {
     "data": {
      "image/png": "[encoded data removed]",
      "text/plain": [
       "<matplotlib.figure.Figure at 0x207d8671400>"
      ]
     },
     "metadata": {},
     "output_type": "display_data"
    }
   ],
   "source": [
    "cm_KNN = confusion_matrix(predicted_KNN, target_test)\n",
    "\n",
    "plt.figure()\n",
    "plot_confusion_matrix(cm_KNN, classes=target_names, normalize=True, title='Confusion matrix without normalization (KNN)')\n",
    "plt.show()\n",
    "\n",
    "cm_SVC = confusion_matrix(predicted_SVC, target_test)\n",
    "\n",
    "plt.figure()\n",
    "plot_confusion_matrix(cm_SVC, classes=target_names, normalize=True, title='Confusion matrix without normalization (SVC)')\n",
    "plt.show()"
   ]
  },
  {
   "cell_type": "markdown",
   "metadata": {},
   "source": [
    "From this the innacuracies in each model can be seen. There are false predicted labels in most categories.\n",
    "\n",
    "The benefit of the confusion matrix over the accuracy score can be seen then when when the original accuracy score is the same between different models. Although the accuracy scores are the same, we can now see if there is a difference between the errors that have occurred."
   ]
  },
  {
   "cell_type": "markdown",
   "metadata": {},
   "source": [
    "#### <font color='green'>**_4.3. Cross Validation_**</font>\n",
    "\n",
    "When performing classification, the problem with splitting the data between training data and test data is that each split may give different resilts. This is where k-fold cross validation can be used.\n",
    "\n",
    "K-fold cross validation splits the data into _k_ different bins. Each of these bins is then used individually as a test set with the rest of the data as the training data set.\n",
    "\n",
    "This is implemented on the data using _k=10_ folds for each model. The scores for each test is summed and averaged to find the overall accuracy for the classifier accross all cross-validation folds."
   ]
  },
  {
   "cell_type": "code",
   "execution_count": 25,
   "metadata": {},
   "outputs": [
    {
     "name": "stdout",
     "output_type": "stream",
     "text": [
      "----------------------NB-----------------------\n",
      "Naive Bayes Scores: \n",
      "[0.99 0.99 1.   0.99 0.96 0.96 0.98 0.99 0.99 0.95]\n",
      "\n",
      "Final k=10 cross validation accuracy (NB): \n",
      "0.980095826159656\n",
      "\n",
      "----------------------KNN----------------------\n",
      "K-Nearest Neighbour Scores: \n",
      "[0.97 0.96 0.98 0.96 0.94 0.96 0.97 0.97 0.94 0.95]\n",
      "\n",
      "Final k=10 cross validation accuracy (KNN): \n",
      "0.9609259889047121\n",
      "\n",
      "----------------------SVC----------------------\n",
      "Support Vector Classification Scores: \n",
      "[0.98 0.99 0.99 0.99 0.97 1.   0.99 0.98 0.99 0.97]\n",
      "\n",
      "Final k=10 cross validation accuracy (SVC): \n",
      "0.9850854818939926\n",
      "-----------------------------------------------\n"
     ]
    }
   ],
   "source": [
    "from sklearn.model_selection import cross_val_score\n",
    "np.set_printoptions(precision=2)\n",
    "\n",
    "scores_NB = cross_val_score(model_NB, data_tfidf, categories, cv=10, scoring='accuracy')\n",
    "final_score_NB =  scores_NB.mean()\n",
    "\n",
    "print(\"----------------------NB-----------------------\")\n",
    "print(\"Naive Bayes Scores: \")\n",
    "print(scores_NB)\n",
    "print(\"\\nFinal k=10 cross validation accuracy (NB): \")\n",
    "print(final_score_NB)\n",
    "\n",
    "scores_KNN = cross_val_score(model_KNN, data_tfidf, categories, cv=10, scoring='accuracy')\n",
    "final_score_KNN =  scores_KNN.mean()\n",
    "\n",
    "print(\"\\n----------------------KNN----------------------\")\n",
    "print(\"K-Nearest Neighbour Scores: \")\n",
    "print(scores_KNN)\n",
    "print(\"\\nFinal k=10 cross validation accuracy (KNN): \")\n",
    "print(final_score_KNN)\n",
    "\n",
    "scores_SVC = cross_val_score(model_SVC, data_tfidf, categories, cv=10, scoring='accuracy')\n",
    "final_score_SVC =  scores_SVC.mean()\n",
    "\n",
    "print(\"\\n----------------------SVC----------------------\")\n",
    "print(\"Support Vector Classification Scores: \")\n",
    "print(scores_SVC)\n",
    "print(\"\\nFinal k=10 cross validation accuracy (SVC): \")\n",
    "print(final_score_SVC)\n",
    "print(\"-----------------------------------------------\")"
   ]
  },
  {
   "cell_type": "markdown",
   "metadata": {},
   "source": [
    "Again here the performance of each model is quite similar in that they are all generally very good with above 90% accuracy for text classification, with KNN performing slightly worse than NB and SVC. The number of folds can be increased or decreased, however the more folds used, the more accurate your cross validation will be. Since this is text classification and it is not very computationally heavy, I have used 10 folds to eunsure an accurate average is calculated.\n",
    "\n",
    "### <font color='green'>**_5. Conclusion_**</font>\n",
    "\n",
    "The performance of each of these classifiers are very good in all cases here. This is most likely due to the fact that text categorisation is being performed which is generally quite an easy classification task. Coupled with the fact that only 3 targets are sought with the predictions. \n",
    "\n",
    "The benefits of using one classification model over another would become more apparent if the performance of image recognition, speech recognition or face detection were being performed. This would result in the number of targets being greatly increased, and some models may prove themselves better than others. Generalising to some extent, it is regarded in machine learning that of the 3 models used here, the SVC model is preferred as the most accurate."
   ]
  }
 ],
 "metadata": {
  "kernelspec": {
   "display_name": "Python 3",
   "language": "python",
   "name": "python3"
  },
  "language_info": {
   "codemirror_mode": {
    "name": "ipython",
    "version": 3
   },
   "file_extension": ".py",
   "mimetype": "text/x-python",
   "name": "python",
   "nbconvert_exporter": "python",
   "pygments_lexer": "ipython3",
   "version": "3.6.4"
  }
 },
 "nbformat": 4,
 "nbformat_minor": 2
}
